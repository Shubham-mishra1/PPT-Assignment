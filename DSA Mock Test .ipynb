{
 "cells": [
  {
   "cell_type": "code",
   "execution_count": 27,
   "id": "5e6b079d",
   "metadata": {},
   "outputs": [
    {
     "name": "stdout",
     "output_type": "stream",
     "text": [
      "[0, 0, 1, 3, 12]\n"
     ]
    }
   ],
   "source": [
    "#1\n",
    "nums = [0,1,0,3,12]\n",
    "p0=curr=0\n",
    "p1=len(nums)-1\n",
    "while(curr<=p1):\n",
    "    if(nums[curr]==0):\n",
    "        nums[curr],nums[p0]=nums[p0],nums[curr]\n",
    "        p0+=1\n",
    "        curr+=1\n",
    "    else:\n",
    "        curr+=1\n",
    "print(nums)\n",
    "\n"
   ]
  },
  {
   "cell_type": "code",
   "execution_count": null,
   "id": "99174b59",
   "metadata": {},
   "outputs": [],
   "source": [
    "\n",
    "        \n",
    "        \n",
    "        \n"
   ]
  },
  {
   "cell_type": "code",
   "execution_count": 33,
   "id": "169cd5d4",
   "metadata": {},
   "outputs": [
    {
     "name": "stdout",
     "output_type": "stream",
     "text": [
      "0\n"
     ]
    }
   ],
   "source": [
    "def firstUniqChar(s):\n",
    "    char_freq = {}  # Dictionary to store character frequencies\n",
    "    \n",
    "    # Update character frequencies\n",
    "    for char in s:\n",
    "        if char in char_freq:\n",
    "            char_freq[char] += 1\n",
    "        else:\n",
    "            char_freq[char] = 1\n",
    "    \n",
    "   \n",
    "    for i in range(len(s)):\n",
    "        if char_freq[s[i]] == 1:\n",
    "            return i\n",
    "    \n",
    "    return -1  \n",
    "\n",
    "string = \"leetcode\"\n",
    "print(firstUniqChar(string)) "
   ]
  },
  {
   "cell_type": "code",
   "execution_count": null,
   "id": "ec2cfc08",
   "metadata": {},
   "outputs": [],
   "source": []
  }
 ],
 "metadata": {
  "kernelspec": {
   "display_name": "Python 3 (ipykernel)",
   "language": "python",
   "name": "python3"
  },
  "language_info": {
   "codemirror_mode": {
    "name": "ipython",
    "version": 3
   },
   "file_extension": ".py",
   "mimetype": "text/x-python",
   "name": "python",
   "nbconvert_exporter": "python",
   "pygments_lexer": "ipython3",
   "version": "3.10.9"
  }
 },
 "nbformat": 4,
 "nbformat_minor": 5
}
